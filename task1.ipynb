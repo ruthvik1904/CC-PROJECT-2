{
  "nbformat": 4,
  "nbformat_minor": 0,
  "metadata": {
    "colab": {
      "provenance": []
    },
    "kernelspec": {
      "name": "python3",
      "display_name": "Python 3"
    },
    "language_info": {
      "name": "python"
    }
  },
  "cells": [
    {
      "cell_type": "code",
      "execution_count": null,
      "metadata": {
        "id": "fSJwfa7QBlV8",
        "colab": {
          "base_uri": "https://localhost:8080/"
        },
        "outputId": "c8ad937a-2338-42aa-d172-846386460372"
      },
      "outputs": [
        {
          "output_type": "stream",
          "name": "stdout",
          "text": [
            "Requirement already satisfied: pyspark in /usr/local/lib/python3.10/dist-packages (3.5.3)\n",
            "Requirement already satisfied: py4j==0.10.9.7 in /usr/local/lib/python3.10/dist-packages (from pyspark) (0.10.9.7)\n"
          ]
        }
      ],
      "source": [
        "pip install pyspark"
      ]
    },
    {
      "cell_type": "code",
      "source": [
        "from pyspark.sql import SparkSession\n",
        "\n",
        "# Initialize Spark Session\n",
        "spark = SparkSession.builder \\\n",
        "    .appName(\"RetailSalesAnalytics\") \\\n",
        "    .getOrCreate()\n"
      ],
      "metadata": {
        "id": "SZ_r-U-tC4Fa"
      },
      "execution_count": null,
      "outputs": []
    },
    {
      "cell_type": "code",
      "source": [
        "# Adjust file path and format as needed (e.g., CSV, Parquet)\n",
        "sales_df = spark.read.csv(\"data/Online_Retail.csv\", header=True, inferSchema=True)\n"
      ],
      "metadata": {
        "id": "LuMWsEOMDLpW"
      },
      "execution_count": null,
      "outputs": []
    },
    {
      "cell_type": "code",
      "source": [
        "review_df = spark.read.csv(\"data/Online_Retail.csv\", header=True, inferSchema=True)\n"
      ],
      "metadata": {
        "id": "Yc99t2jmDeBH"
      },
      "execution_count": null,
      "outputs": []
    },
    {
      "cell_type": "code",
      "source": [
        "# Inspect first few rows\n",
        "sales_df.show(5)\n",
        "review_df.show(5)\n",
        "\n",
        "# Check schema\n",
        "sales_df.printSchema()\n",
        "review_df.printSchema()\n",
        "\n",
        "# Count rows\n",
        "print(\"Sales Dataset Rows:\", sales_df.count())\n",
        "print(\"Reviews Dataset Rows:\", review_df.count())\n"
      ],
      "metadata": {
        "colab": {
          "base_uri": "https://localhost:8080/"
        },
        "id": "4q1BCa-JEVVK",
        "outputId": "5c72e0fc-11f5-4747-8df7-feeec9d49a95"
      },
      "execution_count": null,
      "outputs": [
        {
          "output_type": "stream",
          "name": "stdout",
          "text": [
            "+---------+---------+--------------------+--------+----------------+---------+----------+--------------+\n",
            "|InvoiceNo|StockCode|         Description|Quantity|     InvoiceDate|UnitPrice|CustomerID|       Country|\n",
            "+---------+---------+--------------------+--------+----------------+---------+----------+--------------+\n",
            "|   536365|   85123A|WHITE HANGING HEA...|       6|01-12-2010 08:26|     2.55|     17850|United Kingdom|\n",
            "|   536365|    71053| WHITE METAL LANTERN|       6|01-12-2010 08:26|     3.39|     17850|United Kingdom|\n",
            "|   536365|   84406B|CREAM CUPID HEART...|       8|01-12-2010 08:26|     2.75|     17850|United Kingdom|\n",
            "|   536365|   84029G|KNITTED UNION FLA...|       6|01-12-2010 08:26|     3.39|     17850|United Kingdom|\n",
            "|   536365|   84029E|RED WOOLLY HOTTIE...|       6|01-12-2010 08:26|     3.39|     17850|United Kingdom|\n",
            "+---------+---------+--------------------+--------+----------------+---------+----------+--------------+\n",
            "only showing top 5 rows\n",
            "\n",
            "+---------+---------+--------------------+--------+----------------+---------+----------+--------------+\n",
            "|InvoiceNo|StockCode|         Description|Quantity|     InvoiceDate|UnitPrice|CustomerID|       Country|\n",
            "+---------+---------+--------------------+--------+----------------+---------+----------+--------------+\n",
            "|   536365|   85123A|WHITE HANGING HEA...|       6|01-12-2010 08:26|     2.55|     17850|United Kingdom|\n",
            "|   536365|    71053| WHITE METAL LANTERN|       6|01-12-2010 08:26|     3.39|     17850|United Kingdom|\n",
            "|   536365|   84406B|CREAM CUPID HEART...|       8|01-12-2010 08:26|     2.75|     17850|United Kingdom|\n",
            "|   536365|   84029G|KNITTED UNION FLA...|       6|01-12-2010 08:26|     3.39|     17850|United Kingdom|\n",
            "|   536365|   84029E|RED WOOLLY HOTTIE...|       6|01-12-2010 08:26|     3.39|     17850|United Kingdom|\n",
            "+---------+---------+--------------------+--------+----------------+---------+----------+--------------+\n",
            "only showing top 5 rows\n",
            "\n",
            "root\n",
            " |-- InvoiceNo: string (nullable = true)\n",
            " |-- StockCode: string (nullable = true)\n",
            " |-- Description: string (nullable = true)\n",
            " |-- Quantity: integer (nullable = true)\n",
            " |-- InvoiceDate: string (nullable = true)\n",
            " |-- UnitPrice: double (nullable = true)\n",
            " |-- CustomerID: integer (nullable = true)\n",
            " |-- Country: string (nullable = true)\n",
            "\n",
            "root\n",
            " |-- InvoiceNo: string (nullable = true)\n",
            " |-- StockCode: string (nullable = true)\n",
            " |-- Description: string (nullable = true)\n",
            " |-- Quantity: integer (nullable = true)\n",
            " |-- InvoiceDate: string (nullable = true)\n",
            " |-- UnitPrice: double (nullable = true)\n",
            " |-- CustomerID: integer (nullable = true)\n",
            " |-- Country: string (nullable = true)\n",
            "\n",
            "Sales Dataset Rows: 541909\n",
            "Reviews Dataset Rows: 541909\n"
          ]
        }
      ]
    },
    {
      "cell_type": "code",
      "source": [
        "# Summary of numeric columns\n",
        "sales_df.describe().show()\n",
        "review_df.describe().show()\n"
      ],
      "metadata": {
        "colab": {
          "base_uri": "https://localhost:8080/"
        },
        "id": "tg9ViCkoEa58",
        "outputId": "def3cb0f-86a1-4bb7-8cb4-04f79e3485d3"
      },
      "execution_count": null,
      "outputs": [
        {
          "output_type": "stream",
          "name": "stdout",
          "text": [
            "+-------+------------------+------------------+--------------------+-----------------+----------------+-----------------+------------------+-----------+\n",
            "|summary|         InvoiceNo|         StockCode|         Description|         Quantity|     InvoiceDate|        UnitPrice|        CustomerID|    Country|\n",
            "+-------+------------------+------------------+--------------------+-----------------+----------------+-----------------+------------------+-----------+\n",
            "|  count|            541909|            541909|              540455|           541909|          541909|           541909|            406829|     541909|\n",
            "|   mean|  559965.752026781|27623.240210938104|             20713.0| 9.55224954743324|            NULL|4.611113626082965|15287.690570239585|       NULL|\n",
            "| stddev|13428.417280799484| 16799.73762842768|                NULL|218.0811578502348|            NULL|96.75985306117944|1713.6003033215932|       NULL|\n",
            "|    min|            536365|             10002| 4 PURPLE FLOCK D...|           -80995|01-02-2011 08:23|        -11062.06|             12346|  Australia|\n",
            "|    max|           C581569|                 m|   wrongly sold sets|            80995|31-10-2011 17:19|          38970.0|             18287|Unspecified|\n",
            "+-------+------------------+------------------+--------------------+-----------------+----------------+-----------------+------------------+-----------+\n",
            "\n",
            "+-------+------------------+------------------+--------------------+-----------------+----------------+-----------------+------------------+-----------+\n",
            "|summary|         InvoiceNo|         StockCode|         Description|         Quantity|     InvoiceDate|        UnitPrice|        CustomerID|    Country|\n",
            "+-------+------------------+------------------+--------------------+-----------------+----------------+-----------------+------------------+-----------+\n",
            "|  count|            541909|            541909|              540455|           541909|          541909|           541909|            406829|     541909|\n",
            "|   mean|  559965.752026781|27623.240210938104|             20713.0| 9.55224954743324|            NULL|4.611113626082965|15287.690570239585|       NULL|\n",
            "| stddev|13428.417280799484| 16799.73762842768|                NULL|218.0811578502348|            NULL|96.75985306117944|1713.6003033215932|       NULL|\n",
            "|    min|            536365|             10002| 4 PURPLE FLOCK D...|           -80995|01-02-2011 08:23|        -11062.06|             12346|  Australia|\n",
            "|    max|           C581569|                 m|   wrongly sold sets|            80995|31-10-2011 17:19|          38970.0|             18287|Unspecified|\n",
            "+-------+------------------+------------------+--------------------+-----------------+----------------+-----------------+------------------+-----------+\n",
            "\n"
          ]
        }
      ]
    },
    {
      "cell_type": "code",
      "source": [
        "from pyspark.sql.functions import col\n",
        "\n",
        "# Count missing values in each column\n",
        "sales_df.select([col(c).isNull().alias(c) for c in sales_df.columns]).show()\n",
        "review_df.select([col(c).isNull().alias(c) for c in review_df.columns]).show()\n"
      ],
      "metadata": {
        "colab": {
          "base_uri": "https://localhost:8080/"
        },
        "id": "tltAsaN0Elj6",
        "outputId": "5b87d7a4-6c84-40ee-d9ba-4bf473ea63ae"
      },
      "execution_count": null,
      "outputs": [
        {
          "output_type": "stream",
          "name": "stdout",
          "text": [
            "+---------+---------+-----------+--------+-----------+---------+----------+-------+\n",
            "|InvoiceNo|StockCode|Description|Quantity|InvoiceDate|UnitPrice|CustomerID|Country|\n",
            "+---------+---------+-----------+--------+-----------+---------+----------+-------+\n",
            "|    false|    false|      false|   false|      false|    false|     false|  false|\n",
            "|    false|    false|      false|   false|      false|    false|     false|  false|\n",
            "|    false|    false|      false|   false|      false|    false|     false|  false|\n",
            "|    false|    false|      false|   false|      false|    false|     false|  false|\n",
            "|    false|    false|      false|   false|      false|    false|     false|  false|\n",
            "|    false|    false|      false|   false|      false|    false|     false|  false|\n",
            "|    false|    false|      false|   false|      false|    false|     false|  false|\n",
            "|    false|    false|      false|   false|      false|    false|     false|  false|\n",
            "|    false|    false|      false|   false|      false|    false|     false|  false|\n",
            "|    false|    false|      false|   false|      false|    false|     false|  false|\n",
            "|    false|    false|      false|   false|      false|    false|     false|  false|\n",
            "|    false|    false|      false|   false|      false|    false|     false|  false|\n",
            "|    false|    false|      false|   false|      false|    false|     false|  false|\n",
            "|    false|    false|      false|   false|      false|    false|     false|  false|\n",
            "|    false|    false|      false|   false|      false|    false|     false|  false|\n",
            "|    false|    false|      false|   false|      false|    false|     false|  false|\n",
            "|    false|    false|      false|   false|      false|    false|     false|  false|\n",
            "|    false|    false|      false|   false|      false|    false|     false|  false|\n",
            "|    false|    false|      false|   false|      false|    false|     false|  false|\n",
            "|    false|    false|      false|   false|      false|    false|     false|  false|\n",
            "+---------+---------+-----------+--------+-----------+---------+----------+-------+\n",
            "only showing top 20 rows\n",
            "\n",
            "+---------+---------+-----------+--------+-----------+---------+----------+-------+\n",
            "|InvoiceNo|StockCode|Description|Quantity|InvoiceDate|UnitPrice|CustomerID|Country|\n",
            "+---------+---------+-----------+--------+-----------+---------+----------+-------+\n",
            "|    false|    false|      false|   false|      false|    false|     false|  false|\n",
            "|    false|    false|      false|   false|      false|    false|     false|  false|\n",
            "|    false|    false|      false|   false|      false|    false|     false|  false|\n",
            "|    false|    false|      false|   false|      false|    false|     false|  false|\n",
            "|    false|    false|      false|   false|      false|    false|     false|  false|\n",
            "|    false|    false|      false|   false|      false|    false|     false|  false|\n",
            "|    false|    false|      false|   false|      false|    false|     false|  false|\n",
            "|    false|    false|      false|   false|      false|    false|     false|  false|\n",
            "|    false|    false|      false|   false|      false|    false|     false|  false|\n",
            "|    false|    false|      false|   false|      false|    false|     false|  false|\n",
            "|    false|    false|      false|   false|      false|    false|     false|  false|\n",
            "|    false|    false|      false|   false|      false|    false|     false|  false|\n",
            "|    false|    false|      false|   false|      false|    false|     false|  false|\n",
            "|    false|    false|      false|   false|      false|    false|     false|  false|\n",
            "|    false|    false|      false|   false|      false|    false|     false|  false|\n",
            "|    false|    false|      false|   false|      false|    false|     false|  false|\n",
            "|    false|    false|      false|   false|      false|    false|     false|  false|\n",
            "|    false|    false|      false|   false|      false|    false|     false|  false|\n",
            "|    false|    false|      false|   false|      false|    false|     false|  false|\n",
            "|    false|    false|      false|   false|      false|    false|     false|  false|\n",
            "+---------+---------+-----------+--------+-----------+---------+----------+-------+\n",
            "only showing top 20 rows\n",
            "\n"
          ]
        }
      ]
    },
    {
      "cell_type": "code",
      "source": [
        "# Count duplicate rows\n",
        "print(\"Sales Duplicates:\", sales_df.count() - sales_df.dropDuplicates().count())\n",
        "print(\"Reviews Duplicates:\", review_df.count() - review_df.dropDuplicates().count())\n"
      ],
      "metadata": {
        "colab": {
          "base_uri": "https://localhost:8080/"
        },
        "id": "Q3regi6nEvbk",
        "outputId": "a87f6dc8-24b9-427e-c9b0-ae9ad369b0a6"
      },
      "execution_count": null,
      "outputs": [
        {
          "output_type": "stream",
          "name": "stdout",
          "text": [
            "Sales Duplicates: 5268\n",
            "Reviews Duplicates: 5268\n"
          ]
        }
      ]
    },
    {
      "cell_type": "code",
      "source": [
        "## Example: Fill missing customer IDs with \"unknown\"\n",
        "sales_df = sales_df.fillna({\"CustomerID\": \"unknown\"})\n",
        "\n",
        "# Drop rows with critical missing fields, assuming 'InvoiceNo' and 'StockCode'\n",
        "# are the intended critical fields based on available columns.\n",
        "review_df = review_df.dropna(subset=[\"InvoiceNo\", \"StockCode\"])\n"
      ],
      "metadata": {
        "id": "UoRHQTP-E3uj"
      },
      "execution_count": null,
      "outputs": []
    },
    {
      "cell_type": "code",
      "source": [
        "sales_df = sales_df.dropDuplicates()\n",
        "review_df = review_df.dropDuplicates()\n"
      ],
      "metadata": {
        "id": "hXMM0vYrFGZ8"
      },
      "execution_count": null,
      "outputs": []
    },
    {
      "cell_type": "code",
      "source": [
        "from pyspark.sql.functions import to_date, col\n",
        "\n",
        "# Convert string dates to proper date format\n",
        "sales_df = sales_df.withColumn(\"InvoiceDate\", to_date(col(\"InvoiceDate\"), \"MM/dd/yyyy\"))\n",
        "# Assuming you want to convert 'InvoiceDate' in review_df as well, since 'review_date' doesn't exist\n",
        "review_df = review_df.withColumn(\"InvoiceDate\", to_date(col(\"InvoiceDate\"), \"MM/dd/yyyy\"))\n",
        "# If you have a column with a different name containing the review date,\n",
        "# replace 'InvoiceDate' with that column name in the line above.\n",
        "# For example, if the column is named 'ReviewDate', use:\n",
        "# review_df = review_df.withColumn(\"ReviewDate\", to_date(col(\"ReviewDate\"), \"yyyy-MM-dd\"))"
      ],
      "metadata": {
        "id": "n8pU-TmvFJ0s"
      },
      "execution_count": null,
      "outputs": []
    },
    {
      "cell_type": "code",
      "source": [
        "# Re-check for nulls and duplicates\n",
        "sales_df.select([col(c).isNull().alias(c) for c in sales_df.columns]).show()\n",
        "review_df.select([col(c).isNull().alias(c) for c in review_df.columns]).show()\n",
        "\n",
        "print(\"Sales Duplicates After Cleansing:\", sales_df.count() - sales_df.dropDuplicates().count())\n",
        "print(\"Reviews Duplicates After Cleansing:\", review_df.count() - review_df.dropDuplicates().count())\n"
      ],
      "metadata": {
        "colab": {
          "base_uri": "https://localhost:8080/"
        },
        "id": "MUp3warUFaeB",
        "outputId": "e2bbbf1f-6206-4de6-f7a5-29fea0cbf193"
      },
      "execution_count": null,
      "outputs": [
        {
          "output_type": "stream",
          "name": "stdout",
          "text": [
            "+---------+---------+-----------+--------+-----------+---------+----------+-------+\n",
            "|InvoiceNo|StockCode|Description|Quantity|InvoiceDate|UnitPrice|CustomerID|Country|\n",
            "+---------+---------+-----------+--------+-----------+---------+----------+-------+\n",
            "|    false|    false|      false|   false|       true|    false|     false|  false|\n",
            "|    false|    false|      false|   false|       true|    false|     false|  false|\n",
            "|    false|    false|      false|   false|       true|    false|     false|  false|\n",
            "|    false|    false|      false|   false|       true|    false|     false|  false|\n",
            "|    false|    false|      false|   false|       true|    false|     false|  false|\n",
            "|    false|    false|      false|   false|       true|    false|     false|  false|\n",
            "|    false|    false|      false|   false|       true|    false|     false|  false|\n",
            "|    false|    false|      false|   false|       true|    false|     false|  false|\n",
            "|    false|    false|      false|   false|       true|    false|     false|  false|\n",
            "|    false|    false|      false|   false|       true|    false|     false|  false|\n",
            "|    false|    false|      false|   false|       true|    false|     false|  false|\n",
            "|    false|    false|      false|   false|       true|    false|     false|  false|\n",
            "|    false|    false|      false|   false|       true|    false|     false|  false|\n",
            "|    false|    false|      false|   false|       true|    false|     false|  false|\n",
            "|    false|    false|      false|   false|       true|    false|     false|  false|\n",
            "|    false|    false|      false|   false|       true|    false|     false|  false|\n",
            "|    false|    false|      false|   false|       true|    false|     false|  false|\n",
            "|    false|    false|      false|   false|       true|    false|     false|  false|\n",
            "|    false|    false|      false|   false|       true|    false|     false|  false|\n",
            "|    false|    false|      false|   false|       true|    false|     false|  false|\n",
            "+---------+---------+-----------+--------+-----------+---------+----------+-------+\n",
            "only showing top 20 rows\n",
            "\n",
            "+---------+---------+-----------+--------+-----------+---------+----------+-------+\n",
            "|InvoiceNo|StockCode|Description|Quantity|InvoiceDate|UnitPrice|CustomerID|Country|\n",
            "+---------+---------+-----------+--------+-----------+---------+----------+-------+\n",
            "|    false|    false|      false|   false|       true|    false|     false|  false|\n",
            "|    false|    false|      false|   false|       true|    false|     false|  false|\n",
            "|    false|    false|      false|   false|       true|    false|     false|  false|\n",
            "|    false|    false|      false|   false|       true|    false|     false|  false|\n",
            "|    false|    false|      false|   false|       true|    false|     false|  false|\n",
            "|    false|    false|      false|   false|       true|    false|     false|  false|\n",
            "|    false|    false|      false|   false|       true|    false|     false|  false|\n",
            "|    false|    false|      false|   false|       true|    false|     false|  false|\n",
            "|    false|    false|      false|   false|       true|    false|     false|  false|\n",
            "|    false|    false|      false|   false|       true|    false|     false|  false|\n",
            "|    false|    false|      false|   false|       true|    false|     false|  false|\n",
            "|    false|    false|      false|   false|       true|    false|     false|  false|\n",
            "|    false|    false|      false|   false|       true|    false|     false|  false|\n",
            "|    false|    false|      false|   false|       true|    false|     false|  false|\n",
            "|    false|    false|      false|   false|       true|    false|     false|  false|\n",
            "|    false|    false|      false|   false|       true|    false|     false|  false|\n",
            "|    false|    false|      false|   false|       true|    false|     false|  false|\n",
            "|    false|    false|      false|   false|       true|    false|     false|  false|\n",
            "|    false|    false|      false|   false|       true|    false|     false|  false|\n",
            "|    false|    false|      false|   false|       true|    false|     false|  false|\n",
            "+---------+---------+-----------+--------+-----------+---------+----------+-------+\n",
            "only showing top 20 rows\n",
            "\n",
            "Sales Duplicates After Cleansing: 1\n",
            "Reviews Duplicates After Cleansing: 1\n"
          ]
        }
      ]
    },
    {
      "cell_type": "code",
      "source": [
        "# Example: Top products by sales\n",
        "sales_df.groupBy(\"StockCode\").sum(\"Quantity\").orderBy(\"sum(Quantity)\", ascending=False).show()\n",
        "\n",
        "# Example: Review counts by product\n",
        "review_df.groupBy(\"StockCode\").count().orderBy(\"count\", ascending=False).show()\n"
      ],
      "metadata": {
        "colab": {
          "base_uri": "https://localhost:8080/"
        },
        "id": "lQU8poxcFrTu",
        "outputId": "465d6560-2c63-4630-de2f-cc47ff9bd6ad"
      },
      "execution_count": null,
      "outputs": [
        {
          "output_type": "stream",
          "name": "stdout",
          "text": [
            "+---------+-------------+\n",
            "|StockCode|sum(Quantity)|\n",
            "+---------+-------------+\n",
            "|    22197|        56427|\n",
            "|    84077|        53751|\n",
            "|   85099B|        47260|\n",
            "|   85123A|        38811|\n",
            "|    84879|        36122|\n",
            "|    21212|        36016|\n",
            "|    23084|        30597|\n",
            "|    22492|        26437|\n",
            "|    22616|        26299|\n",
            "|    21977|        24719|\n",
            "|    22178|        23825|\n",
            "|    17003|        23017|\n",
            "|    15036|        22552|\n",
            "|    21915|        22036|\n",
            "|    22386|        20992|\n",
            "|    23203|        19995|\n",
            "|    22086|        18876|\n",
            "|    84946|        18874|\n",
            "|    20725|        18858|\n",
            "|    84991|        18015|\n",
            "+---------+-------------+\n",
            "only showing top 20 rows\n",
            "\n",
            "+---------+-----+\n",
            "|StockCode|count|\n",
            "+---------+-----+\n",
            "|   85123A| 2301|\n",
            "|    22423| 2192|\n",
            "|   85099B| 2156|\n",
            "|    47566| 1720|\n",
            "|    20725| 1626|\n",
            "|    84879| 1489|\n",
            "|    22720| 1469|\n",
            "|    22197| 1468|\n",
            "|    21212| 1367|\n",
            "|    22383| 1328|\n",
            "|    20727| 1323|\n",
            "|    22457| 1272|\n",
            "|    23203| 1260|\n",
            "|     POST| 1256|\n",
            "|    22386| 1245|\n",
            "|    22469| 1232|\n",
            "|    22960| 1221|\n",
            "|    21931| 1211|\n",
            "|    22086| 1194|\n",
            "|    22411| 1192|\n",
            "+---------+-----+\n",
            "only showing top 20 rows\n",
            "\n"
          ]
        }
      ]
    }
  ]
}